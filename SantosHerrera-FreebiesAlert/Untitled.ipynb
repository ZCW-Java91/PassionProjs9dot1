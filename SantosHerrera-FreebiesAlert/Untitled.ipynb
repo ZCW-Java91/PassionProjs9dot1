{
 "cells": [
  {
   "cell_type": "code",
   "execution_count": 22,
   "id": "ac87ef91-ac2b-4bc1-b729-b5059a398255",
   "metadata": {},
   "outputs": [
    {
     "ename": "AttributeError",
     "evalue": "'WebDriver' object has no attribute 'manage'",
     "output_type": "error",
     "traceback": [
      "\u001b[0;31m---------------------------------------------------------------------------\u001b[0m",
      "\u001b[0;31mAttributeError\u001b[0m                            Traceback (most recent call last)",
      "Cell \u001b[0;32mIn[22], line 9\u001b[0m\n\u001b[1;32m      6\u001b[0m url \u001b[38;5;241m=\u001b[39m \u001b[38;5;124m'\u001b[39m\u001b[38;5;124mhttps://www.facebook.com\u001b[39m\u001b[38;5;124m'\u001b[39m\n\u001b[1;32m      8\u001b[0m driver\u001b[38;5;241m.\u001b[39mget(url)\n\u001b[0;32m----> 9\u001b[0m \u001b[43mdriver\u001b[49m\u001b[38;5;241;43m.\u001b[39;49m\u001b[43mmanage\u001b[49m()\u001b[38;5;241m.\u001b[39mdeleteAllCookies();\n\u001b[1;32m     11\u001b[0m options\u001b[38;5;241m.\u001b[39maddArguments(\u001b[38;5;124m\"\u001b[39m\u001b[38;5;124mdisable-infobars\u001b[39m\u001b[38;5;124m\"\u001b[39m)\n",
      "\u001b[0;31mAttributeError\u001b[0m: 'WebDriver' object has no attribute 'manage'"
     ]
    }
   ],
   "source": [
    "from selenium import webdriver\n",
    "\n",
    "driver = webdriver.Chrome()\n",
    "\n",
    "\n",
    "url = 'https://www.facebook.com'\n",
    "\n",
    "driver.get(url)\n",
    "driver.manage().deleteAllCookies();\n",
    "\n",
    "options.addArguments(\"disable-infobars\")\n"
   ]
  },
  {
   "cell_type": "code",
   "execution_count": null,
   "id": "a560bba8-c863-4bcf-bd94-1ea7ebf79ffb",
   "metadata": {},
   "outputs": [],
   "source": []
  }
 ],
 "metadata": {
  "kernelspec": {
   "display_name": "Python 3 (ipykernel)",
   "language": "python",
   "name": "python3"
  },
  "language_info": {
   "codemirror_mode": {
    "name": "ipython",
    "version": 3
   },
   "file_extension": ".py",
   "mimetype": "text/x-python",
   "name": "python",
   "nbconvert_exporter": "python",
   "pygments_lexer": "ipython3",
   "version": "3.11.4"
  }
 },
 "nbformat": 4,
 "nbformat_minor": 5
}
